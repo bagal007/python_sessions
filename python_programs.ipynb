{
 "cells": [
  {
   "cell_type": "markdown",
   "id": "7e136633",
   "metadata": {},
   "source": [
    "# functions"
   ]
  },
  {
   "cell_type": "code",
   "execution_count": 3,
   "id": "a418efd3",
   "metadata": {},
   "outputs": [
    {
     "name": "stdout",
     "output_type": "stream",
     "text": [
      "addition of 10 and 30 is 40\n"
     ]
    }
   ],
   "source": [
    "n1=10\n",
    "n2=30\n",
    "add=n1+n2\n",
    "print(\"addition of {} and {} is {}\".format(n1,n2,add))"
   ]
  },
  {
   "cell_type": "code",
   "execution_count": 2,
   "id": "885d3910",
   "metadata": {},
   "outputs": [],
   "source": [
    "def addition(): \n",
    "    n1=10\n",
    "    n2=30\n",
    "    add=n1+n2\n",
    "    print(\"addition of {} and {} is {}\".format(n1,n2,add))\n",
    "    # the output will come when we call the fun"
   ]
  },
  {
   "cell_type": "code",
   "execution_count": 1,
   "id": "623fc95a",
   "metadata": {},
   "outputs": [
    {
     "ename": "NameError",
     "evalue": "name 'addition' is not defined",
     "output_type": "error",
     "traceback": [
      "\u001b[1;31m---------------------------------------------------------------------------\u001b[0m",
      "\u001b[1;31mNameError\u001b[0m                                 Traceback (most recent call last)",
      "Cell \u001b[1;32mIn[1], line 1\u001b[0m\n\u001b[1;32m----> 1\u001b[0m addition()\n",
      "\u001b[1;31mNameError\u001b[0m: name 'addition' is not defined"
     ]
    }
   ],
   "source": [
    "addition()"
   ]
  },
  {
   "cell_type": "code",
   "execution_count": 14,
   "id": "034c41bd",
   "metadata": {},
   "outputs": [
    {
     "name": "stdout",
     "output_type": "stream",
     "text": [
      "hello\n",
      "i am pratik\n"
     ]
    }
   ],
   "source": [
    "def add():\n",
    "    print('hello')\n",
    "    print('i am pratik')\n",
    "add()\n",
    "    "
   ]
  },
  {
   "cell_type": "code",
   "execution_count": 13,
   "id": "c217ebbf",
   "metadata": {},
   "outputs": [
    {
     "name": "stdout",
     "output_type": "stream",
     "text": [
      "hello\n",
      "i am pratik\n"
     ]
    }
   ],
   "source": [
    "add()\n"
   ]
  },
  {
   "cell_type": "code",
   "execution_count": 15,
   "id": "16918475",
   "metadata": {},
   "outputs": [
    {
     "name": "stdout",
     "output_type": "stream",
     "text": [
      "300\n"
     ]
    }
   ],
   "source": [
    "n1=100\n",
    "n2=200\n",
    "print(n1+n2)"
   ]
  },
  {
   "cell_type": "code",
   "execution_count": 11,
   "id": "6f77dac5",
   "metadata": {},
   "outputs": [
    {
     "name": "stdout",
     "output_type": "stream",
     "text": [
      "the average of 10,30,and 40 is 53.333333333333336\n"
     ]
    }
   ],
   "source": [
    "def avg():\n",
    "    \n",
    "    n1=10\n",
    "    n2=30\n",
    "    n3=40\n",
    "    avarage=n1+n2+n3/3\n",
    "    print(\"the average of {},{},and {} is {}\".format(n1,n2,n3,avarage))\n",
    "avg()\n",
    "    \n",
    "    "
   ]
  },
  {
   "cell_type": "code",
   "execution_count": 29,
   "id": "53b669d9",
   "metadata": {},
   "outputs": [
    {
     "name": "stdout",
     "output_type": "stream",
     "text": [
      "47 is odd number\n"
     ]
    }
   ],
   "source": [
    "import random\n",
    "num=random.randint(2,200)\n",
    "if num%2==0:\n",
    "    print(\"{} is even number\".format(num))\n",
    "else:\n",
    "    print(\"{} is odd number\".format(num))\n",
    "    "
   ]
  },
  {
   "cell_type": "code",
   "execution_count": 40,
   "id": "3744b4c1",
   "metadata": {},
   "outputs": [],
   "source": [
    "n1=10\n",
    "n2=70\n",
    "n3=29\n",
    "\n",
    "def mul():\n",
    "    print('mul:',n1*n2*n3)\n",
    "    \n",
    "    \n",
    "\n",
    "    \n",
    "    \n"
   ]
  },
  {
   "cell_type": "code",
   "execution_count": 41,
   "id": "862735a2",
   "metadata": {},
   "outputs": [
    {
     "name": "stdout",
     "output_type": "stream",
     "text": [
      "mul: 20300\n"
     ]
    }
   ],
   "source": [
    "mul()\n"
   ]
  },
  {
   "cell_type": "code",
   "execution_count": 42,
   "id": "62d27614",
   "metadata": {},
   "outputs": [
    {
     "name": "stdout",
     "output_type": "stream",
     "text": [
      "the division of 50,2 is 25.0\n"
     ]
    }
   ],
   "source": [
    "def div(n1,n4):\n",
    "    division=n1/n4\n",
    "    print(\"the division of {},{} is {}\".format(n1,n4,division))\n",
    "div(50,2)\n",
    "#parameterized argument"
   ]
  },
  {
   "cell_type": "code",
   "execution_count": 44,
   "id": "4814f0cd",
   "metadata": {},
   "outputs": [
    {
     "name": "stdout",
     "output_type": "stream",
     "text": [
      "avarage of 50,30,60 is 100.0\n"
     ]
    }
   ],
   "source": [
    "def avg(n1,n3,n6):\n",
    "    avarage=n1+n3+n6/3\n",
    "    print(\"avarage of {},{},{} is {}\".format(n1,n3,n6,avarage))\n",
    "avg(50,30,60)"
   ]
  },
  {
   "cell_type": "code",
   "execution_count": 45,
   "id": "889c2a8f",
   "metadata": {},
   "outputs": [
    {
     "data": {
      "text/plain": [
       "5"
      ]
     },
     "execution_count": 45,
     "metadata": {},
     "output_type": "execute_result"
    }
   ],
   "source": [
    "num=12345\n",
    "num%10"
   ]
  },
  {
   "cell_type": "markdown",
   "id": "65c86129",
   "metadata": {},
   "source": [
    "###  addition of two numbers"
   ]
  },
  {
   "cell_type": "code",
   "execution_count": 14,
   "id": "72de0b15",
   "metadata": {},
   "outputs": [
    {
     "name": "stdout",
     "output_type": "stream",
     "text": [
      "the sum of 30,45 is 75\n"
     ]
    }
   ],
   "source": [
    "### method1\n",
    "num1=30\n",
    "num2=45\n",
    "sum=num1+num2\n",
    "print('the sum of {},{} is {}'.format(num1,num2,sum))\n",
    "\n"
   ]
  },
  {
   "cell_type": "code",
   "execution_count": 34,
   "id": "0d422d03",
   "metadata": {},
   "outputs": [
    {
     "name": "stdout",
     "output_type": "stream",
     "text": [
      "enter 1st no4\n",
      "enter 2nd no5\n",
      "the sum of 4,5 is9.0\n"
     ]
    }
   ],
   "source": [
    "#method2\n",
    "num1=input(\"enter 1st no\")\n",
    "num2=input(\"enter 2nd no\")\n",
    "sum=float(num1) + float(num2)\n",
    "print('the sum of {0},{1} is{2}'.format(num1,num2,sum))\n"
   ]
  },
  {
   "cell_type": "code",
   "execution_count": 26,
   "id": "800088b7",
   "metadata": {},
   "outputs": [
    {
     "name": "stdout",
     "output_type": "stream",
     "text": [
      "enter num: 6\n",
      "enter num: 9\n",
      "69\n"
     ]
    }
   ],
   "source": [
    "n=input('enter num: ')\n",
    "n1=input('enter num: ')\n",
    "n2=n+n1\n",
    "print(n2)"
   ]
  },
  {
   "cell_type": "code",
   "execution_count": 29,
   "id": "a0cffa0c",
   "metadata": {},
   "outputs": [
    {
     "name": "stdout",
     "output_type": "stream",
     "text": [
      "enter 1st no9\n",
      "enter 2nd no7\n",
      "the sum of 9,7 is1.2857142857142858\n"
     ]
    }
   ],
   "source": [
    "#div\n",
    "num1=input(\"enter 1st no\")\n",
    "num2=input(\"enter 2nd no\")\n",
    "div = float(num1)/float(num2)\n",
    "print('the sum of {0},{1} is{2}'.format(num1,num2,div))\n"
   ]
  },
  {
   "cell_type": "code",
   "execution_count": 36,
   "id": "bf2539b4",
   "metadata": {},
   "outputs": [
    {
     "name": "stdout",
     "output_type": "stream",
     "text": [
      "enter 1st no6\n",
      "enter 2nd no8\n",
      "the multiply of 6,8 is48.0\n"
     ]
    }
   ],
   "source": [
    "#multiplication\n",
    "num1=input(\"enter 1st no\")\n",
    "num2=input(\"enter 2nd no\")\n",
    "mul= float(num1)*float(num2)\n",
    "print('the multiply of {0},{1} is{2}'.format(num1,num2,mul))\n"
   ]
  },
  {
   "cell_type": "markdown",
   "id": "940725e0",
   "metadata": {},
   "source": [
    "## area of triangle"
   ]
  },
  {
   "cell_type": "code",
   "execution_count": null,
   "id": "6a873a6e",
   "metadata": {},
   "outputs": [],
   "source": [
    "a=eval(input('enter the height'))\n",
    "b=eval(input('enter the breadth'))\n",
    "\n",
    "area= 1/2*b*a\n",
    "print('the area of {},{}is {}'.format(a,b,area))"
   ]
  },
  {
   "cell_type": "markdown",
   "id": "fe6eacf3",
   "metadata": {},
   "source": [
    "### swap varibales\n"
   ]
  },
  {
   "cell_type": "code",
   "execution_count": 39,
   "id": "dff9a52f",
   "metadata": {},
   "outputs": [
    {
     "name": "stdout",
     "output_type": "stream",
     "text": [
      "value for p90\n",
      "value for q87\n",
      "the value of p after swapping: 87\n",
      "the value of q after swapping: 90\n"
     ]
    }
   ],
   "source": [
    "p=int(input(\"value for p\"))\n",
    "q=int(input(\"value for q\"))\n",
    "p,q=q,p\n",
    "print(\"the value of p after swapping:\",p)\n",
    "print(\"the value of q after swapping:\",q)\n",
    "\n",
    "\n"
   ]
  },
  {
   "cell_type": "code",
   "execution_count": 40,
   "id": "f9392a13",
   "metadata": {},
   "outputs": [
    {
     "name": "stdout",
     "output_type": "stream",
     "text": [
      "val after swap is: 90\n",
      "val after swap is: 23\n"
     ]
    }
   ],
   "source": [
    "#metthod2\n",
    "a=23\n",
    "b=90\n",
    "a,b=b,a\n",
    "print(\"val after swap is:\",a)\n",
    "print(\"val after swap is:\",b)"
   ]
  },
  {
   "cell_type": "code",
   "execution_count": 42,
   "id": "600dbe27",
   "metadata": {},
   "outputs": [
    {
     "name": "stdout",
     "output_type": "stream",
     "text": [
      "value for p7\n",
      "value for q45\n",
      "the value of p after swapping: 42\n",
      "the value of q after swapping: 7\n"
     ]
    }
   ],
   "source": [
    "p=int(input(\"value for p\"))\n",
    "q=int(input(\"value for q\"))\n",
    "p = p^q\n",
    "q = p^q\n",
    "\n",
    "\n",
    "print(\"the value of p after swapping:\",p)\n",
    "print(\"the value of q after swapping:\",q)\n",
    "\n",
    "\n"
   ]
  },
  {
   "cell_type": "markdown",
   "id": "673d95b8",
   "metadata": {},
   "source": [
    "### generate a  random no\n"
   ]
  },
  {
   "cell_type": "code",
   "execution_count": 52,
   "id": "1011a4ad",
   "metadata": {},
   "outputs": [
    {
     "data": {
      "text/plain": [
       "149"
      ]
     },
     "execution_count": 52,
     "metadata": {},
     "output_type": "execute_result"
    }
   ],
   "source": [
    "import random\n",
    "bar = random.randint(2,200)\n",
    "bar\n"
   ]
  },
  {
   "cell_type": "markdown",
   "id": "4387cdd2",
   "metadata": {},
   "source": [
    " ## program to display calender "
   ]
  },
  {
   "cell_type": "code",
   "execution_count": 64,
   "id": "053b918d",
   "metadata": {},
   "outputs": [
    {
     "name": "stdout",
     "output_type": "stream",
     "text": [
      "                                  2002\n",
      "\n",
      "      January                   February                   March\n",
      "Mo Tu We Th Fr Sa Su      Mo Tu We Th Fr Sa Su      Mo Tu We Th Fr Sa Su\n",
      "    1  2  3  4  5  6                   1  2  3                   1  2  3\n",
      " 7  8  9 10 11 12 13       4  5  6  7  8  9 10       4  5  6  7  8  9 10\n",
      "14 15 16 17 18 19 20      11 12 13 14 15 16 17      11 12 13 14 15 16 17\n",
      "21 22 23 24 25 26 27      18 19 20 21 22 23 24      18 19 20 21 22 23 24\n",
      "28 29 30 31               25 26 27 28               25 26 27 28 29 30 31\n",
      "\n",
      "       April                      May                       June\n",
      "Mo Tu We Th Fr Sa Su      Mo Tu We Th Fr Sa Su      Mo Tu We Th Fr Sa Su\n",
      " 1  2  3  4  5  6  7             1  2  3  4  5                      1  2\n",
      " 8  9 10 11 12 13 14       6  7  8  9 10 11 12       3  4  5  6  7  8  9\n",
      "15 16 17 18 19 20 21      13 14 15 16 17 18 19      10 11 12 13 14 15 16\n",
      "22 23 24 25 26 27 28      20 21 22 23 24 25 26      17 18 19 20 21 22 23\n",
      "29 30                     27 28 29 30 31            24 25 26 27 28 29 30\n",
      "\n",
      "        July                     August                  September\n",
      "Mo Tu We Th Fr Sa Su      Mo Tu We Th Fr Sa Su      Mo Tu We Th Fr Sa Su\n",
      " 1  2  3  4  5  6  7                1  2  3  4                         1\n",
      " 8  9 10 11 12 13 14       5  6  7  8  9 10 11       2  3  4  5  6  7  8\n",
      "15 16 17 18 19 20 21      12 13 14 15 16 17 18       9 10 11 12 13 14 15\n",
      "22 23 24 25 26 27 28      19 20 21 22 23 24 25      16 17 18 19 20 21 22\n",
      "29 30 31                  26 27 28 29 30 31         23 24 25 26 27 28 29\n",
      "                                                    30\n",
      "\n",
      "      October                   November                  December\n",
      "Mo Tu We Th Fr Sa Su      Mo Tu We Th Fr Sa Su      Mo Tu We Th Fr Sa Su\n",
      "    1  2  3  4  5  6                   1  2  3                         1\n",
      " 7  8  9 10 11 12 13       4  5  6  7  8  9 10       2  3  4  5  6  7  8\n",
      "14 15 16 17 18 19 20      11 12 13 14 15 16 17       9 10 11 12 13 14 15\n",
      "21 22 23 24 25 26 27      18 19 20 21 22 23 24      16 17 18 19 20 21 22\n",
      "28 29 30 31               25 26 27 28 29 30         23 24 25 26 27 28 29\n",
      "                                                    30 31\n",
      "\n"
     ]
    }
   ],
   "source": [
    "import calendar as c\n",
    "print(c.calendar(2002))"
   ]
  },
  {
   "cell_type": "markdown",
   "id": "a35fc046",
   "metadata": {},
   "source": [
    "# to check no is positive negative or zero"
   ]
  },
  {
   "cell_type": "code",
   "execution_count": 67,
   "id": "ca026078",
   "metadata": {},
   "outputs": [
    {
     "name": "stdout",
     "output_type": "stream",
     "text": [
      "entera no60\n",
      "no is positive\n"
     ]
    }
   ],
   "source": [
    "def nmcheck(a):\n",
    "    if a>0:\n",
    "        print(\"no is positive\")\n",
    "    elif a<0:\n",
    "        print(\"no is negative\")\n",
    "    else:\n",
    "        print(\"no is zero\")\n",
    "a=int(input(\"entera no\"))\n",
    "nmcheck(a)"
   ]
  },
  {
   "cell_type": "markdown",
   "id": "2955f274",
   "metadata": {},
   "source": [
    "## even or what"
   ]
  },
  {
   "cell_type": "code",
   "execution_count": 72,
   "id": "1022a75e",
   "metadata": {},
   "outputs": [
    {
     "name": "stdout",
     "output_type": "stream",
     "text": [
      "enter a  value for a5\n",
      "no is odd\n"
     ]
    }
   ],
   "source": [
    "a=int(input(\"enter a  value for a\"))\n",
    "if (a%2==0):\n",
    "    \n",
    "        print(\"no is even\".format(a))\n",
    "    \n",
    "else:\n",
    "        print(\"no is odd\".format(a))\n"
   ]
  },
  {
   "cell_type": "markdown",
   "id": "bc4b768d",
   "metadata": {},
   "source": [
    "### pg to check year is leap or not "
   ]
  },
  {
   "cell_type": "code",
   "execution_count": 119,
   "id": "5e2ef8fb",
   "metadata": {},
   "outputs": [],
   "source": [
    "def CheckLeap():\n",
    "    Year\n",
    "    Year=input(\"enter a num:\") \n",
    "    if((Year % 400 ==0) or\n",
    "       (Year % 100 !=0) &\n",
    "       (Year % 4 ==0)):\n",
    "        print(\"given year is  a leap Year\".format(Year));\n",
    "    else:\n",
    "        print(\"given year is not a leap Year\".format(Year))\n",
    "    Year = int(input(\"enter a num:\")) \n",
    "    CheckLeap()"
   ]
  },
  {
   "cell_type": "code",
   "execution_count": null,
   "id": "3a537e46",
   "metadata": {},
   "outputs": [],
   "source": []
  },
  {
   "cell_type": "code",
   "execution_count": null,
   "id": "6129d96f",
   "metadata": {},
   "outputs": [],
   "source": []
  },
  {
   "cell_type": "code",
   "execution_count": null,
   "id": "b81c48fb",
   "metadata": {},
   "outputs": [],
   "source": []
  },
  {
   "cell_type": "code",
   "execution_count": null,
   "id": "fb0fd215",
   "metadata": {},
   "outputs": [],
   "source": []
  },
  {
   "cell_type": "code",
   "execution_count": null,
   "id": "7e6f96a1",
   "metadata": {},
   "outputs": [],
   "source": []
  }
 ],
 "metadata": {
  "kernelspec": {
   "display_name": "Python 3 (ipykernel)",
   "language": "python",
   "name": "python3"
  },
  "language_info": {
   "codemirror_mode": {
    "name": "ipython",
    "version": 3
   },
   "file_extension": ".py",
   "mimetype": "text/x-python",
   "name": "python",
   "nbconvert_exporter": "python",
   "pygments_lexer": "ipython3",
   "version": "3.11.5"
  }
 },
 "nbformat": 4,
 "nbformat_minor": 5
}
