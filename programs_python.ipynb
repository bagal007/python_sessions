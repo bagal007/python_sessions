{
 "cells": [
  {
   "cell_type": "markdown",
   "id": "7df78757",
   "metadata": {},
   "source": [
    "### prime num or not "
   ]
  },
  {
   "cell_type": "code",
   "execution_count": 35,
   "id": "43e88833",
   "metadata": {},
   "outputs": [
    {
     "name": "stdout",
     "output_type": "stream",
     "text": [
      "enter an number5\n",
      "5 is a prime number\n"
     ]
    }
   ],
   "source": [
    "\n",
    "num = int (input(\"enter an number\"))\n",
    "flag=False\n",
    "if num == 1:\n",
    "    print(num,\"is not a  prime number\")\n",
    "            \n",
    "elif num>1:\n",
    "     for i in range(2,num):\n",
    "         if (num%i)==0:\n",
    "            flag=True\n",
    "            break\n",
    "            \n",
    "     if flag:\n",
    "         print(num,\"is not a prime number\")\n",
    "     else:\n",
    "         print(num,\"is a prime number\")\n",
    "        \n",
    "        \n",
    "            \n",
    "\n",
    "        \n",
    "        "
   ]
  },
  {
   "cell_type": "markdown",
   "id": "2b6fe55e",
   "metadata": {},
   "source": [
    "### factorial of a number"
   ]
  },
  {
   "cell_type": "code",
   "execution_count": 38,
   "id": "80f482a2",
   "metadata": {},
   "outputs": [
    {
     "name": "stdout",
     "output_type": "stream",
     "text": [
      "enter a number10\n",
      "the factorial of 10 is 3628800\n"
     ]
    }
   ],
   "source": [
    "num=int(input(\"enter a number\"))\n",
    "factorial = 1\n",
    "if num<0:\n",
    "    print(\"factorial does not for negative number\")\n",
    "elif num ==0:\n",
    " print(\"the factorial of 0 is 1\")\n",
    "else:\n",
    " for i in range(1,num+1):\n",
    "        factorial = factorial*i\n",
    " print(\"the factorial of\",num,\"is\",factorial)"
   ]
  },
  {
   "cell_type": "code",
   "execution_count": 41,
   "id": "3ae9d9ae",
   "metadata": {},
   "outputs": [
    {
     "name": "stdout",
     "output_type": "stream",
     "text": [
      "factorial of 6 is\n"
     ]
    },
    {
     "data": {
      "text/plain": [
       "720"
      ]
     },
     "execution_count": 41,
     "metadata": {},
     "output_type": "execute_result"
    }
   ],
   "source": [
    "def fact(n):\n",
    "    return 1 if(n==1 or n==0)else n*fact(n-1);\n",
    "num=6\n",
    "print(\"factorial of\",num,\"is\",)\n",
    "fact(num)"
   ]
  },
  {
   "cell_type": "markdown",
   "id": "bd3b2b06",
   "metadata": {},
   "source": [
    "# pg for print multiplication table\n",
    "\n"
   ]
  },
  {
   "cell_type": "code",
   "execution_count": 47,
   "id": "37d7ca10",
   "metadata": {},
   "outputs": [
    {
     "name": "stdout",
     "output_type": "stream",
     "text": [
      "enter a number10\n",
      "the multiplication table of: 10\n",
      "10 x 10 = 10\n",
      "10 x 10 = 20\n",
      "10 x 10 = 30\n",
      "10 x 10 = 40\n",
      "10 x 10 = 50\n",
      "10 x 10 = 60\n",
      "10 x 10 = 70\n",
      "10 x 10 = 80\n",
      "10 x 10 = 90\n",
      "10 x 10 = 100\n"
     ]
    }
   ],
   "source": [
    "# using for loop\n",
    "number=int(input(\"enter a number\"))\n",
    "count=1\n",
    "print(\"the multiplication table of:\",number)\n",
    "while count<=10:\n",
    "        number=number*1\n",
    "        print(number,'x',i,'=',number*count)\n",
    "        count+=1"
   ]
  },
  {
   "cell_type": "markdown",
   "id": "acda8849",
   "metadata": {},
   "source": [
    "# fabincoi series"
   ]
  },
  {
   "cell_type": "code",
   "execution_count": 48,
   "id": "25595301",
   "metadata": {},
   "outputs": [
    {
     "name": "stdout",
     "output_type": "stream",
     "text": [
      "enter number:10\n",
      "0 1 1 2 3 5 8 13 21 34 "
     ]
    }
   ],
   "source": [
    "#using forloop\n",
    "n=int(input(\"enter number:\"))\n",
    "a=0\n",
    "b=1\n",
    "for i in range(0,n):\n",
    "    print(a,end=\" \")\n",
    "    c=a+b\n",
    "    a=b\n",
    "    b=c"
   ]
  },
  {
   "cell_type": "code",
   "execution_count": 58,
   "id": "07e59fc5",
   "metadata": {},
   "outputs": [
    {
     "name": "stdout",
     "output_type": "stream",
     "text": [
      "enter a number6\n",
      "the sum is 21\n"
     ]
    }
   ],
   "source": [
    "num=int(input(\"enter a number\"))\n",
    "if num<0:\n",
    "    print(\"enter a positive number\")\n",
    "else:\n",
    " sum=0\n",
    " while(num>0):\n",
    "  sum += num\n",
    "  num-=1\n",
    " print(\"the sum is\",sum)"
   ]
  },
  {
   "cell_type": "markdown",
   "id": "4078fe52",
   "metadata": {},
   "source": [
    "making a calculator"
   ]
  },
  {
   "cell_type": "code",
   "execution_count": 60,
   "id": "a0f25f73",
   "metadata": {},
   "outputs": [
    {
     "name": "stdout",
     "output_type": "stream",
     "text": [
      "Collecting simplecalculatorNote: you may need to restart the kernel to use updated packages.\n",
      "\n",
      "  Downloading simplecalculator-0.0.4.tar.gz (2.8 kB)\n",
      "  Preparing metadata (setup.py): started\n",
      "  Preparing metadata (setup.py): finished with status 'done'\n",
      "Building wheels for collected packages: simplecalculator\n",
      "  Building wheel for simplecalculator (setup.py): started\n",
      "  Building wheel for simplecalculator (setup.py): finished with status 'done'\n",
      "  Created wheel for simplecalculator: filename=simplecalculator-0.0.4-py3-none-any.whl size=2800 sha256=0ce06dc95881547f799f59ba76f2b7f9990e5a181c8a52a43a295541eaa7fbf8\n",
      "  Stored in directory: c:\\users\\bprat\\appdata\\local\\pip\\cache\\wheels\\d7\\ab\\06\\4575c076ad66a7f250ad6aac3723d3c77c714750a9924fdcb4\n",
      "Successfully built simplecalculator\n",
      "Installing collected packages: simplecalculator\n",
      "Successfully installed simplecalculator-0.0.4\n"
     ]
    }
   ],
   "source": [
    "pip install simplecalculator"
   ]
  },
  {
   "cell_type": "code",
   "execution_count": 64,
   "id": "e8c3205b",
   "metadata": {},
   "outputs": [],
   "source": [
    "import math"
   ]
  },
  {
   "cell_type": "code",
   "execution_count": 65,
   "id": "e8ed4045",
   "metadata": {},
   "outputs": [
    {
     "data": {
      "text/plain": [
       "['__doc__',\n",
       " '__loader__',\n",
       " '__name__',\n",
       " '__package__',\n",
       " '__spec__',\n",
       " 'acos',\n",
       " 'acosh',\n",
       " 'asin',\n",
       " 'asinh',\n",
       " 'atan',\n",
       " 'atan2',\n",
       " 'atanh',\n",
       " 'cbrt',\n",
       " 'ceil',\n",
       " 'comb',\n",
       " 'copysign',\n",
       " 'cos',\n",
       " 'cosh',\n",
       " 'degrees',\n",
       " 'dist',\n",
       " 'e',\n",
       " 'erf',\n",
       " 'erfc',\n",
       " 'exp',\n",
       " 'exp2',\n",
       " 'expm1',\n",
       " 'fabs',\n",
       " 'factorial',\n",
       " 'floor',\n",
       " 'fmod',\n",
       " 'frexp',\n",
       " 'fsum',\n",
       " 'gamma',\n",
       " 'gcd',\n",
       " 'hypot',\n",
       " 'inf',\n",
       " 'isclose',\n",
       " 'isfinite',\n",
       " 'isinf',\n",
       " 'isnan',\n",
       " 'isqrt',\n",
       " 'lcm',\n",
       " 'ldexp',\n",
       " 'lgamma',\n",
       " 'log',\n",
       " 'log10',\n",
       " 'log1p',\n",
       " 'log2',\n",
       " 'modf',\n",
       " 'nan',\n",
       " 'nextafter',\n",
       " 'perm',\n",
       " 'pi',\n",
       " 'pow',\n",
       " 'prod',\n",
       " 'radians',\n",
       " 'remainder',\n",
       " 'sin',\n",
       " 'sinh',\n",
       " 'sqrt',\n",
       " 'tan',\n",
       " 'tanh',\n",
       " 'tau',\n",
       " 'trunc',\n",
       " 'ulp']"
      ]
     },
     "execution_count": 65,
     "metadata": {},
     "output_type": "execute_result"
    }
   ],
   "source": [
    "dir(math)"
   ]
  },
  {
   "cell_type": "code",
   "execution_count": 66,
   "id": "730c06b0",
   "metadata": {},
   "outputs": [
    {
     "name": "stdout",
     "output_type": "stream",
     "text": [
      "Help on built-in function sqrt in module math:\n",
      "\n",
      "sqrt(x, /)\n",
      "    Return the square root of x.\n",
      "\n"
     ]
    }
   ],
   "source": [
    "help(math.sqrt)"
   ]
  },
  {
   "cell_type": "code",
   "execution_count": 68,
   "id": "dcf227e8",
   "metadata": {},
   "outputs": [],
   "source": [
    "\n",
    "a=math.sqrt(25)"
   ]
  },
  {
   "cell_type": "code",
   "execution_count": 71,
   "id": "6dafbdf6",
   "metadata": {},
   "outputs": [
    {
     "name": "stdout",
     "output_type": "stream",
     "text": [
      "plese enter a chractera\n",
      "the ASCII value ofais 97\n"
     ]
    }
   ],
   "source": [
    "#ascii value of char\n",
    "k=input(\"plese enter a chracter\")\n",
    "print(\"the ASCII value of\"+k+\"is\",ord(k))\n"
   ]
  },
  {
   "cell_type": "code",
   "execution_count": null,
   "id": "b8ddc3d5",
   "metadata": {},
   "outputs": [],
   "source": []
  }
 ],
 "metadata": {
  "kernelspec": {
   "display_name": "Python 3 (ipykernel)",
   "language": "python",
   "name": "python3"
  },
  "language_info": {
   "codemirror_mode": {
    "name": "ipython",
    "version": 3
   },
   "file_extension": ".py",
   "mimetype": "text/x-python",
   "name": "python",
   "nbconvert_exporter": "python",
   "pygments_lexer": "ipython3",
   "version": "3.11.5"
  }
 },
 "nbformat": 4,
 "nbformat_minor": 5
}
